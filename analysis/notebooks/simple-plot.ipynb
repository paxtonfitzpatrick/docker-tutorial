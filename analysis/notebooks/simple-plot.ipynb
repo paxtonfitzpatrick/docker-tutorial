{
 "cells": [
  {
   "cell_type": "code",
   "execution_count": null,
   "id": "8009670f",
   "metadata": {},
   "outputs": [],
   "source": [
    "!cat /etc/os-release"
   ]
  },
  {
   "cell_type": "code",
   "execution_count": null,
   "id": "e060129c",
   "metadata": {},
   "outputs": [],
   "source": [
    "!python --version"
   ]
  },
  {
   "cell_type": "code",
   "execution_count": null,
   "id": "c5952982",
   "metadata": {},
   "outputs": [],
   "source": [
    "import pandas as pd\n",
    "\n",
    "import matplotlib.pyplot as plt\n",
    "import seaborn as sns\n",
    "\n",
    "%matplotlib inline"
   ]
  },
  {
   "cell_type": "code",
   "execution_count": null,
   "id": "c5f3c117",
   "metadata": {},
   "outputs": [],
   "source": [
    "pd.__version__, sns.__version__"
   ]
  },
  {
   "cell_type": "code",
   "execution_count": null,
   "id": "93729412",
   "metadata": {},
   "outputs": [],
   "source": [
    "df = pd.read_csv('../data/fmri.csv')\n",
    "df.head()"
   ]
  },
  {
   "cell_type": "code",
   "execution_count": null,
   "id": "8d081f26",
   "metadata": {},
   "outputs": [],
   "source": [
    "sns.set_theme(context=\"notebook\", style=\"darkgrid\")\n",
    "\n",
    "fig = sns.lineplot(x=\"timepoint\", y=\"signal\", \n",
    "                   hue=\"region\", style=\"event\", \n",
    "                   data=df)\n",
    "\n",
    "plt.show()"
   ]
  },
  {
   "cell_type": "code",
   "execution_count": null,
   "id": "b8bfd68c",
   "metadata": {},
   "outputs": [],
   "source": [
    "!mkdir -p ../figures"
   ]
  },
  {
   "cell_type": "code",
   "execution_count": null,
   "id": "482aecb6",
   "metadata": {},
   "outputs": [],
   "source": [
    "sns.lineplot(x=\"timepoint\", y=\"signal\", \n",
    "             hue=\"event\", units=\"subject\",\n",
    "             estimator=None, lw=1,\n",
    "             data=df.query(\"region == 'frontal'\")\n",
    ")\n",
    "\n",
    "plt.title('Frontal lobe activity over time')\n",
    "plt.tight_layout()\n",
    "plt.savefig('../figures/frontal-by-subject.pdf', bbox_inches='tight')\n",
    "plt.show()"
   ]
  }
 ],
 "metadata": {
  "kernelspec": {
   "display_name": "Python 3 (ipykernel)",
   "language": "python",
   "name": "python3"
  },
  "language_info": {
   "codemirror_mode": {
    "name": "ipython",
    "version": 3
   },
   "file_extension": ".py",
   "mimetype": "text/x-python",
   "name": "python",
   "nbconvert_exporter": "python",
   "pygments_lexer": "ipython3",
   "version": "3.8.5"
  }
 },
 "nbformat": 4,
 "nbformat_minor": 5
}
